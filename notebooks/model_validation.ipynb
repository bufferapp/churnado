{
 "cells": [
  {
   "cell_type": "code",
   "execution_count": 126,
   "metadata": {},
   "outputs": [],
   "source": [
    "import pandas as pd\n",
    "from sklearn.model_selection import cross_val_score\n",
    "from sklearn.ensemble import RandomForestClassifier\n",
    "from sklearn.preprocessing import OneHotEncoder\n",
    "from sklearn import preprocessing\n",
    "from sklearn.metrics import roc_auc_score\n",
    "from sklearn.svm import SVC"
   ]
  },
  {
   "cell_type": "code",
   "execution_count": 103,
   "metadata": {},
   "outputs": [],
   "source": [
    "df = pd.read_csv('data/training_dataset_2018-07-05.csv', low_memory=False)"
   ]
  },
  {
   "cell_type": "code",
   "execution_count": 104,
   "metadata": {},
   "outputs": [],
   "source": [
    "df = pd.get_dummies(df, columns=[\n",
    "        \"locale_browser_language\",\n",
    "        \"plan_id\",\n",
    "        \"simplified_plan_id\",\n",
    "        \"timezone\",\n",
    "        \"twofactor_type\"\n",
    "])"
   ]
  },
  {
   "cell_type": "code",
   "execution_count": 105,
   "metadata": {},
   "outputs": [],
   "source": [
    "df['trialed'] = df['trial_start_at'].notna() "
   ]
  },
  {
   "cell_type": "code",
   "execution_count": 106,
   "metadata": {},
   "outputs": [],
   "source": [
    "df = df.drop([\n",
    "    'customer_id',\n",
    "    'created_at',\n",
    "    'canceled_at',\n",
    "    'trial_start_at',\n",
    "    'trial_end_at',\n",
    "    'user_id',\n",
    "    'user_signup_date'\n",
    "], axis=1)"
   ]
  },
  {
   "cell_type": "code",
   "execution_count": 107,
   "metadata": {},
   "outputs": [],
   "source": [
    "df['churned_in_next_two_months'] = df['churned_in_next_two_months'].map({'t': True, 'f': False})\n",
    "df['has_verified_email'] = df['has_verified_email'].map({'t': True, 'f': False})\n",
    "df['has_notifications_enabled'] = df['has_notifications_enabled'].map({'t': True, 'f': False})\n",
    "df['is_approved'] = df['is_approved'].map({'t': True, 'f': False})\n",
    "df['is_suspended'] = df['is_suspended'].map({'t': True, 'f': False})"
   ]
  },
  {
   "cell_type": "code",
   "execution_count": 108,
   "metadata": {},
   "outputs": [],
   "source": [
    "df = df.fillna(0)"
   ]
  },
  {
   "cell_type": "code",
   "execution_count": 109,
   "metadata": {},
   "outputs": [],
   "source": [
    "X = df.drop(['subscription_id', 'churned_in_next_two_months'], axis=1)"
   ]
  },
  {
   "cell_type": "code",
   "execution_count": 110,
   "metadata": {},
   "outputs": [],
   "source": [
    "Y = df['churned_in_next_two_months']"
   ]
  },
  {
   "cell_type": "markdown",
   "metadata": {},
   "source": [
    "### Validation"
   ]
  },
  {
   "cell_type": "code",
   "execution_count": 111,
   "metadata": {},
   "outputs": [],
   "source": [
    "val_df = pd.read_csv('data/validation_dataset_2018-07-05.csv', low_memory=False)"
   ]
  },
  {
   "cell_type": "code",
   "execution_count": 112,
   "metadata": {},
   "outputs": [],
   "source": [
    "val_df = pd.get_dummies(val_df, columns=[\n",
    "        \"locale_browser_language\",\n",
    "        \"plan_id\",\n",
    "        \"simplified_plan_id\",\n",
    "        \"timezone\",\n",
    "        \"twofactor_type\"\n",
    "])\n",
    "\n",
    "val_df['trialed'] = val_df['trial_start_at'].notna() \n",
    "val_df = val_df.drop([\n",
    "    'customer_id',\n",
    "    'created_at',\n",
    "    'canceled_at',\n",
    "    'trial_start_at',\n",
    "    'trial_end_at',\n",
    "    'user_id',\n",
    "    'user_signup_date'\n",
    "], axis=1)\n",
    "val_df['churned_in_next_two_months'] = val_df['churned_in_next_two_months'].map({'t': True, 'f': False})\n",
    "val_df['has_verified_email'] = val_df['has_verified_email'].map({'t': True, 'f': False})\n",
    "val_df['has_notifications_enabled'] = val_df['has_notifications_enabled'].map({'t': True, 'f': False})\n",
    "val_df['is_approved'] = val_df['is_approved'].map({'t': True, 'f': False})\n",
    "val_df['is_suspended'] = val_df['is_suspended'].map({'t': True, 'f': False})\n",
    "val_df = val_df.fillna(0)"
   ]
  },
  {
   "cell_type": "code",
   "execution_count": 113,
   "metadata": {},
   "outputs": [],
   "source": [
    "X_val = val_df.drop(['subscription_id', 'churned_in_next_two_months'], axis=1)"
   ]
  },
  {
   "cell_type": "code",
   "execution_count": 114,
   "metadata": {},
   "outputs": [],
   "source": [
    "Y_val = val_df['churned_in_next_two_months']"
   ]
  },
  {
   "cell_type": "code",
   "execution_count": 115,
   "metadata": {},
   "outputs": [],
   "source": [
    "x_missing_cols = set( X_val.columns ) - set( X.columns )"
   ]
  },
  {
   "cell_type": "code",
   "execution_count": 116,
   "metadata": {},
   "outputs": [],
   "source": [
    "for c in x_missing_cols:\n",
    "    X[c] = 0"
   ]
  },
  {
   "cell_type": "code",
   "execution_count": 117,
   "metadata": {},
   "outputs": [],
   "source": [
    "missing_cols = set( X.columns ) - set( X_val.columns )"
   ]
  },
  {
   "cell_type": "code",
   "execution_count": 118,
   "metadata": {},
   "outputs": [],
   "source": [
    "for c in missing_cols:\n",
    "    X_val[c] = 0"
   ]
  },
  {
   "cell_type": "code",
   "execution_count": 127,
   "metadata": {},
   "outputs": [],
   "source": [
    "# clf = RandomForestClassifier(n_estimators=500, random_state=0)\n",
    "clf = SVC()"
   ]
  },
  {
   "cell_type": "code",
   "execution_count": 128,
   "metadata": {},
   "outputs": [
    {
     "data": {
      "text/plain": [
       "SVC(C=1.0, cache_size=200, class_weight=None, coef0=0.0,\n",
       "  decision_function_shape='ovr', degree=3, gamma='auto', kernel='rbf',\n",
       "  max_iter=-1, probability=False, random_state=None, shrinking=True,\n",
       "  tol=0.001, verbose=False)"
      ]
     },
     "execution_count": 128,
     "metadata": {},
     "output_type": "execute_result"
    }
   ],
   "source": [
    "clf.fit(X,Y)"
   ]
  },
  {
   "cell_type": "code",
   "execution_count": 129,
   "metadata": {},
   "outputs": [],
   "source": [
    "Y_val_pred = clf.predict(X_val)"
   ]
  },
  {
   "cell_type": "code",
   "execution_count": 130,
   "metadata": {},
   "outputs": [
    {
     "data": {
      "text/plain": [
       "0.5241544432446368"
      ]
     },
     "execution_count": 130,
     "metadata": {},
     "output_type": "execute_result"
    }
   ],
   "source": [
    "roc_auc_score(Y_val, Y_val_pred)"
   ]
  }
 ],
 "metadata": {
  "kernelspec": {
   "display_name": "Python 3",
   "language": "python",
   "name": "python3"
  },
  "language_info": {
   "codemirror_mode": {
    "name": "ipython",
    "version": 3
   },
   "file_extension": ".py",
   "mimetype": "text/x-python",
   "name": "python",
   "nbconvert_exporter": "python",
   "pygments_lexer": "ipython3",
   "version": "3.6.5"
  }
 },
 "nbformat": 4,
 "nbformat_minor": 2
}
