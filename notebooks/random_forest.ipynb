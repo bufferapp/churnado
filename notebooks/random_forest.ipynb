{
    "cells": [{
            "cell_type": "code",
            "execution_count": 1,
            "metadata": {},
            "outputs": [],
            "source": [
                "import pandas as pd"
            ]
        },
        {
            "cell_type": "code",
            "execution_count": 3,
            "metadata": {},
            "outputs": [],
            "source": [
                "df = pd.read_csv('features.csv.zip', low_memory=False)"
            ]
        },
        {
            "cell_type": "code",
            "execution_count": 102,
            "metadata": {},
            "outputs": [],
            "source": [
                "df = pd.get_dummies(df, columns=[\n",
                "        \"locale_browser_language\",\n",
                "        \"signup_client_name\",\n",
                "        \"signup_option\",\n",
                "        \"plan_id\",\n",
                "        \"billing_interval\",\n",
                "        \"country\",\n",
                "        \"simplified_plan_name\"\n",
                "])"
            ]
        },
        {
            "cell_type": "code",
            "execution_count": 103,
            "metadata": {},
            "outputs": [],
            "source": [
                "df = df.drop([\n",
                "    'signup_date',\n",
                "    'created_at',\n",
                "    'canceled_at',\n",
                "    'subscription_id',\n",
                "    'signup_date',\n",
                "    'estimate',\n",
                "], axis=1)"
            ]
        },
        {
            "cell_type": "code",
            "execution_count": 104,
            "metadata": {},
            "outputs": [],
            "source": [
                "df['ios_user'] = df['ios_user'].map({'Yes': 1, 'No': 0}).astype(bool)\n",
                "df['android_user'] = df['android_user'].map({'Yes': 1, 'No': 0}).astype(bool)"
            ]
        },
        {
            "cell_type": "code",
            "execution_count": 105,
            "metadata": {},
            "outputs": [],
            "source": [
                "from sklearn.model_selection import cross_val_score\n",
                "from sklearn.ensemble import RandomForestClassifier"
            ]
        },
        {
            "cell_type": "code",
            "execution_count": 106,
            "metadata": {},
            "outputs": [],
            "source": [
                "df = df.fillna(0)"
            ]
        },
        {
            "cell_type": "code",
            "execution_count": 107,
            "metadata": {},
            "outputs": [],
            "source": [
                "X = df.drop(['id', 'did_churn'], axis=1)"
            ]
        },
        {
            "cell_type": "code",
            "execution_count": 108,
            "metadata": {},
            "outputs": [],
            "source": [
                "Y = df['did_churn']"
            ]
        },
        {
            "cell_type": "code",
            "execution_count": 109,
            "metadata": {},
            "outputs": [],
            "source": [
                "clf = RandomForestClassifier(n_estimators=100, random_state=0)\n",
                "scores = cross_val_score(clf, X, Y, cv=5, scoring='roc_auc', n_jobs=4)"
            ]
        },
        {
            "cell_type": "code",
            "execution_count": 110,
            "metadata": {},
            "outputs": [{
                "data": {
                    "text/plain": [
                        "0.8747401686320796"
                    ]
                },
                "execution_count": 110,
                "metadata": {},
                "output_type": "execute_result"
            }],
            "source": [
                "scores.mean()"
            ]
        }
    ],
    "metadata": {
        "kernelspec": {
            "display_name": "Python 3",
            "language": "python",
            "name": "python3"
        },
        "language_info": {
            "codemirror_mode": {
                "name": "ipython",
                "version": 3
            },
            "file_extension": ".py",
            "mimetype": "text/x-python",
            "name": "python",
            "nbconvert_exporter": "python",
            "pygments_lexer": "ipython3",
            "version": "3.6.5"
        }
    },
    "nbformat": 4,
    "nbformat_minor": 2
}